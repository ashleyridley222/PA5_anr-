{
 "cells": [
  {
   "cell_type": "code",
   "execution_count": 1,
   "id": "d1c6fef7",
   "metadata": {},
   "outputs": [
    {
     "name": "stdout",
     "output_type": "stream",
     "text": [
      "Enter the length of side A: 5\n",
      "Enter the length of side A: 5\n",
      "Enter the length of side A: 5\n",
      "the area of the triangle is 10.825317547305483\n",
      "the perimeter of the triangle is 15.0\n"
     ]
    }
   ],
   "source": [
    "a=float(input(\"Enter the length of side A: \"))\n",
    "b=float(input(\"Enter the length of side A: \"))\n",
    "c=float(input(\"Enter the length of side A: \"))\n",
    "calcperimeter= (a+b+c)\n",
    "s=calcperimeter/2\n",
    "calcarea=(s*(s-a)*(s-b)*(s-c))**0.5\n",
    "print(\"the area of the triangle is\", calcarea)\n",
    "print(\"the perimeter of the triangle is\", calcperimeter)"
   ]
  },
  {
   "cell_type": "code",
   "execution_count": 2,
   "id": "f4ceec32",
   "metadata": {},
   "outputs": [
    {
     "name": "stdout",
     "output_type": "stream",
     "text": [
      "enter a number between 1 and 1000:90\n",
      "take a guess\n",
      "90\n",
      "your guess is too low\n",
      "take a guess\n",
      "200\n",
      "your guess is too high\n",
      "take a guess\n",
      "100\n",
      "your guess is too low\n",
      "take a guess\n",
      "150\n",
      "your guess is too high\n",
      "take a guess\n",
      "120\n",
      "your guess is too low\n",
      "take a guess\n",
      "130\n",
      "your guess is too low\n"
     ]
    }
   ],
   "source": [
    "import random \n",
    "\n",
    "guesses_taken=0\n",
    "number=random.randint(1,1000)\n",
    "answer=int(input(\"enter a number between 1 and 1000:\"))\n",
    "while guesses_taken <6:\n",
    "    print(\"take a guess\")\n",
    "    guess=input()\n",
    "    guess=int(guess)\n",
    "    \n",
    "    guesses_taken=guesses_taken + 1\n",
    "    if guess < number:\n",
    "        print(\"your guess is too low\")\n",
    "    if guess > number:\n",
    "        print(\"your guess is too high\")\n",
    "    if guess==number:\n",
    "        break\n",
    "if guess ==number:\n",
    "    guesses_taken=str(guesses_taken)\n",
    "    print(\"good guess !\")\n",
    "if guess != number:\n",
    "    number=str(number)\n",
    "\n",
    "    "
   ]
  },
  {
   "cell_type": "code",
   "execution_count": 4,
   "id": "056b5122",
   "metadata": {},
   "outputs": [
    {
     "name": "stdout",
     "output_type": "stream",
     "text": [
      "the mean temp for the past 7 days is: 80.85714285714286\n",
      "the mean temp for the past 5 days is: 84.6\n",
      "the mean temp for the past 2 days is: 94.0\n"
     ]
    }
   ],
   "source": [
    "def meanTemp(temps):\n",
    "    total=0\n",
    "    for num in temps:\n",
    "        total=total+num\n",
    "    return total/len(temps)\n",
    "print(\"the mean temp for the past 7 days is:\",meanTemp([78,65,89,66,80,90,98]))\n",
    "print(\"the mean temp for the past 5 days is:\",meanTemp([89,66,80,90,98]))\n",
    "print(\"the mean temp for the past 2 days is:\",meanTemp([90,98]))\n",
    "\n",
    "\n"
   ]
  },
  {
   "cell_type": "markdown",
   "id": "32273c22",
   "metadata": {},
   "source": [
    "## Ashley Ridley\n",
    "## Assignment 5\n",
    "## Version 1\n",
    "## Fall 2022"
   ]
  },
  {
   "cell_type": "code",
   "execution_count": null,
   "id": "148a736e",
   "metadata": {},
   "outputs": [],
   "source": []
  }
 ],
 "metadata": {
  "kernelspec": {
   "display_name": "Python 3 (ipykernel)",
   "language": "python",
   "name": "python3"
  },
  "language_info": {
   "codemirror_mode": {
    "name": "ipython",
    "version": 3
   },
   "file_extension": ".py",
   "mimetype": "text/x-python",
   "name": "python",
   "nbconvert_exporter": "python",
   "pygments_lexer": "ipython3",
   "version": "3.9.12"
  }
 },
 "nbformat": 4,
 "nbformat_minor": 5
}
